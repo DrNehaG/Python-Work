{
 "cells": [
  {
   "cell_type": "markdown",
   "id": "72504af1",
   "metadata": {},
   "source": [
    "### Q1. In the below elements which of them are values or an expression? eg:- values can be integer or string and expressions will be mathematical operators.\n",
    "\n",
    "**'*'**\n",
    "\n",
    "**'hello'**\n",
    "\n",
    "**-87.8**\n",
    "\n",
    "**'-'**\n",
    "\n",
    "**/**\n",
    "\n",
    "**'+'**\n",
    "\n",
    "**6**"
   ]
  },
  {
   "cell_type": "markdown",
   "id": "6eed7227",
   "metadata": {},
   "source": [
    "**Answer:** Values are: 'hello', -87.8, 6\n",
    "\n",
    "Expressions are: '*', '-', /, '+'"
   ]
  },
  {
   "cell_type": "markdown",
   "id": "399d6c87",
   "metadata": {},
   "source": [
    "### Q2. What is the difference between string and variable?"
   ]
  },
  {
   "cell_type": "markdown",
   "id": "f5593656",
   "metadata": {},
   "source": [
    "**Answer:** Any text is considered as string but if we use any text to store / hold some value then it is considered as variable."
   ]
  },
  {
   "cell_type": "markdown",
   "id": "56ec6c52",
   "metadata": {},
   "source": [
    "### Q3. Describe three different data types."
   ]
  },
  {
   "cell_type": "markdown",
   "id": "dc7f9c0a",
   "metadata": {},
   "source": [
    "**Answer:** The 3 different data types are:\n",
    "\n",
    "a) bool: True or False are considered as boolean values.\n",
    "\n",
    "b) str: any text value is considered as string.\n",
    "\n",
    "c) int: all the whole numbers and negative of natural numbers are considered as integers."
   ]
  },
  {
   "cell_type": "markdown",
   "id": "717ff7f0",
   "metadata": {},
   "source": [
    "### Q4. What is an expression made up of? What do all expressions do?"
   ]
  },
  {
   "cell_type": "markdown",
   "id": "a53b2823",
   "metadata": {},
   "source": [
    "**Answer:** An expression is composed of variables, mathematical operators and some constants and after evaluation it results into some value. For example, (2 + 3)*a, 3/4 + b - c/a, etc. where a, b, and c are variables."
   ]
  },
  {
   "cell_type": "markdown",
   "id": "29d30e15",
   "metadata": {},
   "source": [
    "### Q5. This assignment statements, like spam = 10. What is the difference between an expression and a statement?"
   ]
  },
  {
   "cell_type": "markdown",
   "id": "1969487c",
   "metadata": {},
   "source": [
    "**Answer:** An expression is composed of variables, mathematical operators and some constants and after evaluation it results into some value. For example, (2 + 3)*a, 3/4 + b - c/a, etc. where a, b, and c are variables.\n",
    "\n",
    "Variable declaration or displaying anything is considered as statement as it doesn't return any value."
   ]
  },
  {
   "cell_type": "markdown",
   "id": "eb57f515",
   "metadata": {},
   "source": [
    "### Q6. After running the following code, what does the variable bacon contain?\n",
    "#### bacon = 22\n",
    "#### bacon + 1"
   ]
  },
  {
   "cell_type": "markdown",
   "id": "1f1fb700",
   "metadata": {},
   "source": [
    "**Answer:** It would remain same i.e. 22."
   ]
  },
  {
   "cell_type": "markdown",
   "id": "a8c68d72",
   "metadata": {},
   "source": [
    "### Q7. What should be the values of the following two terms?\n",
    "#### 'spam' + 'spamspam'\n",
    "#### 'spam' * 3"
   ]
  },
  {
   "cell_type": "markdown",
   "id": "be99b8a2",
   "metadata": {},
   "source": [
    "**Answer:** It would be same for both the expressions i.e.'spamspamspam'."
   ]
  },
  {
   "cell_type": "markdown",
   "id": "8e6d9944",
   "metadata": {},
   "source": [
    "### Q8. Why is eggs a valid variable name while 100 is invalid?"
   ]
  },
  {
   "cell_type": "markdown",
   "id": "18da5ea4",
   "metadata": {},
   "source": [
    "**Answer:** eggs is following the proper naming convention like it is beginning with a letter and it doesn't contain any special characters.\n",
    "\n",
    "We can not define a variable name that must begin with some number that's why 100 is invalid variable name."
   ]
  },
  {
   "cell_type": "markdown",
   "id": "8d3765c0",
   "metadata": {},
   "source": [
    "### Q9. What three functions can be used to get the integer, floating-point number, or string version of a value?"
   ]
  },
  {
   "cell_type": "markdown",
   "id": "a2333b20",
   "metadata": {},
   "source": [
    "**Answer:** To get the integer value, we should use int().\n",
    "\n",
    "To get the floating-point value, we should use float().\n",
    "\n",
    "To get the string value, we should use str()."
   ]
  },
  {
   "cell_type": "markdown",
   "id": "38cb68eb",
   "metadata": {},
   "source": [
    "### Q10. Why does this expression cause an error? How can you fix it?\n",
    "#### 'I have eaten ' + 99 + ' burritos.'"
   ]
  },
  {
   "cell_type": "markdown",
   "id": "c4860034",
   "metadata": {},
   "source": [
    "**Answer:** We can't add integer with a string. To fix it, we need to convert 99 into string and then we may use like \n",
    "\n",
    "'I have eaten ' + '99' + ' burritos.'\n",
    "\n",
    "or\n",
    "\n",
    "'I have eaten ' + str(99) + ' burritos.'"
   ]
  }
 ],
 "metadata": {
  "kernelspec": {
   "display_name": "Python 3",
   "language": "python",
   "name": "python3"
  },
  "language_info": {
   "codemirror_mode": {
    "name": "ipython",
    "version": 3
   },
   "file_extension": ".py",
   "mimetype": "text/x-python",
   "name": "python",
   "nbconvert_exporter": "python",
   "pygments_lexer": "ipython3",
   "version": "3.8.8"
  }
 },
 "nbformat": 4,
 "nbformat_minor": 5
}
