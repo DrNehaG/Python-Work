{
 "cells": [
  {
   "cell_type": "markdown",
   "metadata": {},
   "source": [
    "## Python Basic Programming Exercises"
   ]
  },
  {
   "cell_type": "markdown",
   "metadata": {},
   "source": [
    "### Q1 Write a program which will find all such numbers which are divisible by 7 but are not a multiple of 5, between 2000 and 3200 (both included)."
   ]
  },
  {
   "cell_type": "code",
   "execution_count": 1,
   "metadata": {
    "ExecuteTime": {
     "end_time": "2020-05-31T16:22:18.048786Z",
     "start_time": "2020-05-31T16:22:18.044765Z"
    }
   },
   "outputs": [
    {
     "name": "stdout",
     "output_type": "stream",
     "text": [
      "[2002, 2009, 2016, 2023, 2037, 2044, 2051, 2058, 2072, 2079, 2086, 2093, 2107, 2114, 2121, 2128, 2142, 2149, 2156, 2163, 2177, 2184, 2191, 2198, 2212, 2219, 2226, 2233, 2247, 2254, 2261, 2268, 2282, 2289, 2296, 2303, 2317, 2324, 2331, 2338, 2352, 2359, 2366, 2373, 2387, 2394, 2401, 2408, 2422, 2429, 2436, 2443, 2457, 2464, 2471, 2478, 2492, 2499, 2506, 2513, 2527, 2534, 2541, 2548, 2562, 2569, 2576, 2583, 2597, 2604, 2611, 2618, 2632, 2639, 2646, 2653, 2667, 2674, 2681, 2688, 2702, 2709, 2716, 2723, 2737, 2744, 2751, 2758, 2772, 2779, 2786, 2793, 2807, 2814, 2821, 2828, 2842, 2849, 2856, 2863, 2877, 2884, 2891, 2898, 2912, 2919, 2926, 2933, 2947, 2954, 2961, 2968, 2982, 2989, 2996, 3003, 3017, 3024, 3031, 3038, 3052, 3059, 3066, 3073, 3087, 3094, 3101, 3108, 3122, 3129, 3136, 3143, 3157, 3164, 3171, 3178, 3192, 3199]\n"
     ]
    }
   ],
   "source": [
    "print(list(filter(lambda x : x % 7 == 0 and x % 5 != 0, range(2000, 3201))))"
   ]
  },
  {
   "cell_type": "markdown",
   "metadata": {},
   "source": [
    "### Q2 Write a program which can compute the factorial of a given numbers. The results should be printed in a comma-separated sequence on a single line. input() function can be used for getting user(console) input raw_input() for python 2.x. Suppose the input is supplied to the program:  8. Then, the output should be:  40320. Hints: In case of input data being supplied to the question, it should be assumed to be a console input. "
   ]
  },
  {
   "cell_type": "code",
   "execution_count": 2,
   "metadata": {
    "ExecuteTime": {
     "end_time": "2020-05-31T16:22:26.332304Z",
     "start_time": "2020-05-31T16:22:24.003397Z"
    }
   },
   "outputs": [
    {
     "name": "stdout",
     "output_type": "stream",
     "text": [
      "Enter a number whose factorial you want to find. 7\n",
      "The factorial is: 5040\n"
     ]
    }
   ],
   "source": [
    "# Factorial of a number.\n",
    "num = int(input('Enter a number whose factorial you want to find. '))\n",
    "for i in range(num - 1, 1, -1):\n",
    "    num = num*i\n",
    "print(\"The factorial is:\", num)"
   ]
  },
  {
   "cell_type": "code",
   "execution_count": 3,
   "metadata": {
    "ExecuteTime": {
     "end_time": "2020-05-31T16:22:38.147247Z",
     "start_time": "2020-05-31T16:22:28.264605Z"
    }
   },
   "outputs": [
    {
     "name": "stdout",
     "output_type": "stream",
     "text": [
      "Enter the numbers separated by comma whose factorial you want to find. 4,5,8,10,12\n",
      "The factorial of the entered numbers is: [24, 120, 40320, 3628800, 479001600]\n"
     ]
    }
   ],
   "source": [
    "# Factorial of multiple numbers\n",
    "num = input('Enter the numbers separated by comma whose factorial you want to find. ').split(\",\")\n",
    "out = 0\n",
    "l1 = [int(i) for i in num]\n",
    "for i in range(0, len(l1)):\n",
    "    for j in range(l1[i] - 1, 0, -1):\n",
    "        l1[i] = l1[i]*j\n",
    "print(\"The factorial of the entered numbers is:\", l1)"
   ]
  },
  {
   "cell_type": "markdown",
   "metadata": {
    "ExecuteTime": {
     "end_time": "2020-05-31T13:34:20.908848Z",
     "start_time": "2020-05-31T13:34:20.904862Z"
    }
   },
   "source": [
    "### Q3 With a given integral number n, write a program to generate a dictionary that contains (i, i*i) such that is an integral number between 1 and n (both included). and then the program should print the dictionary. Suppose the following input is supplied to the program: 8. Then, the output should be: {1: 1, 2: 4, 3: 9, 4: 16, 5: 25, 6: 36, 7: 49, 8: 64}. Hints: In case of input data being supplied to the question, it should be assumed to be a console input. Consider use dict()"
   ]
  },
  {
   "cell_type": "code",
   "execution_count": 4,
   "metadata": {
    "ExecuteTime": {
     "end_time": "2020-05-31T16:23:42.628604Z",
     "start_time": "2020-05-31T16:23:40.996204Z"
    }
   },
   "outputs": [
    {
     "name": "stdout",
     "output_type": "stream",
     "text": [
      "Enter an integer number: 10\n"
     ]
    },
    {
     "data": {
      "text/plain": [
       "{1: 1, 2: 4, 3: 9, 4: 16, 5: 25, 6: 36, 7: 49, 8: 64, 9: 81, 10: 100}"
      ]
     },
     "execution_count": 4,
     "metadata": {},
     "output_type": "execute_result"
    }
   ],
   "source": [
    "# By using dictionary comprehensions\n",
    "n = int(input('Enter an integer number: '))\n",
    "{i: i*i for i in range(1, n+1)}"
   ]
  },
  {
   "cell_type": "markdown",
   "metadata": {},
   "source": [
    "### Q4 Write a program which accepts a sequence of comma-separated numbers from console and generate a list and a tuple which contains every number. Suppose the following input is supplied to the program: 34,67,55,33,12,98. Then, the output should be: ['34', '67', '55', '33', '12', '98'] ('34', '67', '55', '33', '12', '98'). Hints: In case of input data being supplied to the question, it should be assumed to be a console input. tuple() method can convert list to tuple."
   ]
  },
  {
   "cell_type": "code",
   "execution_count": 5,
   "metadata": {
    "ExecuteTime": {
     "end_time": "2020-05-31T16:24:05.274695Z",
     "start_time": "2020-05-31T16:23:52.319907Z"
    }
   },
   "outputs": [
    {
     "name": "stdout",
     "output_type": "stream",
     "text": [
      "Enter a sequence of comma-separated numbers: 34,45,56,78.9,-23,45.3,24.4\n",
      "['34', '45', '56', '78.9', '-23', '45.3', '24.4']\n",
      "('34', '45', '56', '78.9', '-23', '45.3', '24.4')\n"
     ]
    }
   ],
   "source": [
    "n = input('Enter a sequence of comma-separated numbers: ').split(',')\n",
    "print(n)\n",
    "print(tuple(n))"
   ]
  },
  {
   "cell_type": "markdown",
   "metadata": {
    "ExecuteTime": {
     "end_time": "2020-05-31T16:21:14.465170Z",
     "start_time": "2020-05-31T16:21:14.463177Z"
    }
   },
   "source": [
    "### Q5 Write a program that accepts a comma separated sequence of words as input and prints the words in a comma-separated sequence after sorting them alphabetically. Suppose the following input is supplied to the program: without,hello,bag,world. Then, the output should be: bag,hello,without,world. Hints: In case of input data being supplied to the question, it should be assumed to be a console input."
   ]
  },
  {
   "cell_type": "code",
   "execution_count": 6,
   "metadata": {
    "ExecuteTime": {
     "end_time": "2020-05-31T16:24:54.264401Z",
     "start_time": "2020-05-31T16:24:47.048777Z"
    }
   },
   "outputs": [
    {
     "name": "stdout",
     "output_type": "stream",
     "text": [
      "Enter a comma separated sequence of words: without,hello,bag,world war\n",
      "['bag', 'hello', 'without', 'world war']\n"
     ]
    }
   ],
   "source": [
    "y = input('Enter a comma separated sequence of words: ').split(\",\")\n",
    "y.sort()\n",
    "print(y)"
   ]
  },
  {
   "cell_type": "markdown",
   "metadata": {},
   "source": [
    "### Q6 Write a program that accepts a sequence of whitespace separated words as input and prints the words after removing all duplicate words and sorting them alphanumerically. Suppose the following input is supplied to the program: hello world and practice makes perfect and hello world again. Then, the output should be: again and hello makes perfect practice world. Hints: In case of input data being supplied to the question, it should be assumed to be a console input. We use set container to remove duplicated data automatically and then use sorted() to sort the data."
   ]
  },
  {
   "cell_type": "code",
   "execution_count": 7,
   "metadata": {
    "ExecuteTime": {
     "end_time": "2020-05-31T16:25:40.149439Z",
     "start_time": "2020-05-31T16:25:03.512957Z"
    }
   },
   "outputs": [
    {
     "name": "stdout",
     "output_type": "stream",
     "text": [
      "Enter a sequence of whitespace separated words: Python is a programming language. It is case - sensitive.\n",
      "['-', 'a', 'case', 'is', 'it', 'language.', 'programming', 'python', 'sensitive.']\n"
     ]
    }
   ],
   "source": [
    "x = input('Enter a sequence of whitespace separated words: ').lower().split()\n",
    "print(sorted(set(x)))"
   ]
  },
  {
   "cell_type": "markdown",
   "metadata": {
    "ExecuteTime": {
     "end_time": "2020-05-31T16:16:32.615468Z",
     "start_time": "2020-05-31T16:16:32.613503Z"
    }
   },
   "source": [
    "### Q7 Write a program that accepts a sentence and calculate the number of upper case letters and lower case letters. Suppose the following input is supplied to the program: Hello world! Then, the output should be: UPPER CASE 1 LOWER CASE 9. Hints: In case of input data being supplied to the question, it should be assumed to be a console input."
   ]
  },
  {
   "cell_type": "code",
   "execution_count": 8,
   "metadata": {
    "ExecuteTime": {
     "end_time": "2020-05-31T16:26:23.697107Z",
     "start_time": "2020-05-31T16:26:21.035940Z"
    }
   },
   "outputs": [
    {
     "name": "stdout",
     "output_type": "stream",
     "text": [
      "Enter a sentence: Python is a Programming Language. Python is a case sensitive programming language.\n",
      "{'UPPER CASE': 4, 'LOWER CASE': 65}\n"
     ]
    }
   ],
   "source": [
    "x = input('Enter a sentence: ')\n",
    "uc_count = 0\n",
    "lc_count = 0\n",
    "for i in range(0, len(x)):\n",
    "    if x[i].isupper() == True:\n",
    "        uc_count+=1\n",
    "    elif x[i].islower() == True:\n",
    "        lc_count+=1\n",
    "print({\"UPPER CASE\" : uc_count, \"LOWER CASE\" : lc_count})"
   ]
  }
 ],
 "metadata": {
  "hide_input": false,
  "kernelspec": {
   "display_name": "Python 3",
   "language": "python",
   "name": "python3"
  },
  "language_info": {
   "codemirror_mode": {
    "name": "ipython",
    "version": 3
   },
   "file_extension": ".py",
   "mimetype": "text/x-python",
   "name": "python",
   "nbconvert_exporter": "python",
   "pygments_lexer": "ipython3",
   "version": "3.8.8"
  },
  "toc": {
   "base_numbering": 1,
   "nav_menu": {},
   "number_sections": true,
   "sideBar": true,
   "skip_h1_title": false,
   "title_cell": "Table of Contents",
   "title_sidebar": "Contents",
   "toc_cell": true,
   "toc_position": {
    "height": "calc(100% - 180px)",
    "left": "10px",
    "top": "150px",
    "width": "191.188px"
   },
   "toc_section_display": true,
   "toc_window_display": true
  },
  "varInspector": {
   "cols": {
    "lenName": 16,
    "lenType": 16,
    "lenVar": "400"
   },
   "kernels_config": {
    "python": {
     "delete_cmd_postfix": "",
     "delete_cmd_prefix": "del ",
     "library": "var_list.py",
     "varRefreshCmd": "print(var_dic_list())"
    },
    "r": {
     "delete_cmd_postfix": ") ",
     "delete_cmd_prefix": "rm(",
     "library": "var_list.r",
     "varRefreshCmd": "cat(var_dic_list()) "
    }
   },
   "oldHeight": 122,
   "position": {
    "height": "40px",
    "left": "1096px",
    "right": "20px",
    "top": "120px",
    "width": "250px"
   },
   "types_to_exclude": [
    "module",
    "function",
    "builtin_function_or_method",
    "instance",
    "_Feature"
   ],
   "varInspector_section_display": "none",
   "window_display": true
  }
 },
 "nbformat": 4,
 "nbformat_minor": 2
}
