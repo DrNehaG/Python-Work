{
 "cells": [
  {
   "cell_type": "markdown",
   "id": "ea41d795",
   "metadata": {},
   "source": [
    "### Q1 Write a Python program to convert kilometers to miles?"
   ]
  },
  {
   "cell_type": "code",
   "execution_count": 1,
   "id": "961e070e",
   "metadata": {},
   "outputs": [
    {
     "name": "stdout",
     "output_type": "stream",
     "text": [
      "Enter distance in kilometers: 34\n",
      "The distance in miles is: 21.13\n"
     ]
    }
   ],
   "source": [
    "kms = float(input(\"Enter distance in kilometers: \"))\n",
    "print(\"The distance in miles is:\", round(kms*0.621371, 2))"
   ]
  },
  {
   "cell_type": "markdown",
   "id": "f187456f",
   "metadata": {},
   "source": [
    "### Q2 Write a Python program to convert Celsius to Fahrenheit?"
   ]
  },
  {
   "cell_type": "code",
   "execution_count": 2,
   "id": "6ef5c8bc",
   "metadata": {},
   "outputs": [
    {
     "name": "stdout",
     "output_type": "stream",
     "text": [
      "Enter temperature in celsius: 23\n",
      "The temperature in Fahrenheit is: 73.4\n"
     ]
    }
   ],
   "source": [
    "celsius = float(input(\"Enter temperature in celsius: \"))\n",
    "print(\"The temperature in Fahrenheit is:\", 32 + celsius *9/5)"
   ]
  },
  {
   "cell_type": "markdown",
   "id": "67a95fc3",
   "metadata": {},
   "source": [
    "### Q3 Write a Python program to display calendar?"
   ]
  },
  {
   "cell_type": "code",
   "execution_count": 3,
   "id": "aff0fca6",
   "metadata": {},
   "outputs": [
    {
     "name": "stdout",
     "output_type": "stream",
     "text": [
      "Enter the year for which you would like to see the calendar: 2021\n",
      "Enter the month as integer value for which you would like to see the calendar: 4\n",
      "\n",
      "      April 2021\n",
      "Mo Tu We Th Fr Sa Su\n",
      "          1  2  3  4\n",
      " 5  6  7  8  9 10 11\n",
      "12 13 14 15 16 17 18\n",
      "19 20 21 22 23 24 25\n",
      "26 27 28 29 30\n",
      "\n"
     ]
    }
   ],
   "source": [
    "import calendar #imported calendar package\n",
    "Year = int(input(\"Enter the year for which you would like to see the calendar: \"))\n",
    "Month = int(input(\"Enter the month as integer value for which you would like to see the calendar: \"))\n",
    "print(\"\\n\", calendar.month(Year, Month))"
   ]
  },
  {
   "cell_type": "markdown",
   "id": "ae3565df",
   "metadata": {},
   "source": [
    "### Q4 Write a Python program to solve quadratic equation?"
   ]
  },
  {
   "cell_type": "code",
   "execution_count": 4,
   "id": "82b56397",
   "metadata": {},
   "outputs": [
    {
     "name": "stdout",
     "output_type": "stream",
     "text": [
      "Enter coefficient of x^2:3\n",
      "Enter coefficient of x:6\n",
      "Enter constant term:2\n",
      "Discriminant is positive\n",
      "The real roots of quadratic equation are: \n",
      " x1: -14.19615242270663 \n",
      " x2: -3.8038475772933684\n"
     ]
    }
   ],
   "source": [
    "import numpy as np # imported numpy package\n",
    "\n",
    "# Let's consider quadratic equation as ax^2 + bx + c = 0\n",
    "a = float(input(\"Enter coefficient of x^2:\"))\n",
    "b = float(input(\"Enter coefficient of x:\"))\n",
    "c = float(input(\"Enter constant term:\"))\n",
    "discriminant = b**2 - 4*a*c\n",
    "if discriminant > 0:\n",
    "    x1 = (-b - np.sqrt(discriminant))/2*a\n",
    "    x2 = (-b + np.sqrt(discriminant))/2*a\n",
    "    print(\"Discriminant is positive\")\n",
    "    print(\"The real roots of quadratic equation are:\", \"\\n\", \"x1:\", x1,\"\\n\",\"x2:\", x2)\n",
    "elif discriminant == 0:\n",
    "    x = (-b)/2*a\n",
    "    print(\"Discriminant is zero\")\n",
    "    print(\"The root of quadratic equation is:\", x)\n",
    "else:\n",
    "    print(\"Discriminant is negative\")\n",
    "    print(\"The imaginary roots of quadratic equation are:\", \"\\n\", \"x1:\", \n",
    "          -b/2*a, \"- j\", np.sqrt(abs(b**2 - 4*a*c))/2*a,\"\\n\",\"x2:\",\n",
    "          -b/2*a, \"+ j\", np.sqrt(abs(b**2 - 4*a*c))/2*a)"
   ]
  },
  {
   "cell_type": "markdown",
   "id": "798133c6",
   "metadata": {},
   "source": [
    "### Q5 Write a Python program to swap two variables without temp variable?"
   ]
  },
  {
   "cell_type": "code",
   "execution_count": 5,
   "id": "7e4955d1",
   "metadata": {},
   "outputs": [
    {
     "name": "stdout",
     "output_type": "stream",
     "text": [
      "a: 67 and b: 14\n"
     ]
    }
   ],
   "source": [
    "a = 14\n",
    "b = 67\n",
    "a, b = b, a\n",
    "print(\"a:\", a, \"and b:\", b)"
   ]
  }
 ],
 "metadata": {
  "kernelspec": {
   "display_name": "Python 3",
   "language": "python",
   "name": "python3"
  },
  "language_info": {
   "codemirror_mode": {
    "name": "ipython",
    "version": 3
   },
   "file_extension": ".py",
   "mimetype": "text/x-python",
   "name": "python",
   "nbconvert_exporter": "python",
   "pygments_lexer": "ipython3",
   "version": "3.8.8"
  }
 },
 "nbformat": 4,
 "nbformat_minor": 5
}
