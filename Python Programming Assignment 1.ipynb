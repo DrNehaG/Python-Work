{
 "cells": [
  {
   "cell_type": "markdown",
   "id": "d917b634",
   "metadata": {},
   "source": [
    "### Q1 Write a Python program to print \"Hello Python\"?"
   ]
  },
  {
   "cell_type": "code",
   "execution_count": 1,
   "id": "237e0926",
   "metadata": {},
   "outputs": [
    {
     "name": "stdout",
     "output_type": "stream",
     "text": [
      "Hello Python\n"
     ]
    }
   ],
   "source": [
    "print(\"Hello Python\")"
   ]
  },
  {
   "cell_type": "markdown",
   "id": "b2d394ab",
   "metadata": {},
   "source": [
    "### Q2 Write a Python program to do arithmetical operations addition and division?"
   ]
  },
  {
   "cell_type": "code",
   "execution_count": 2,
   "id": "d58f9a48",
   "metadata": {},
   "outputs": [
    {
     "name": "stdout",
     "output_type": "stream",
     "text": [
      "Enter a number: 34\n",
      "Enter another number: 89\n",
      "The addition of a & b is: 123.0\n",
      "The division of a & b is: 0.38202247191011235\n"
     ]
    }
   ],
   "source": [
    "a = float(input(\"Enter a number: \"))\n",
    "b = float(input(\"Enter another number: \"))\n",
    "print(\"The addition of a & b is:\", a+b)\n",
    "print(\"The division of a & b is:\", a/b)"
   ]
  },
  {
   "cell_type": "markdown",
   "id": "32c0b8f5",
   "metadata": {},
   "source": [
    "### Q3 Write a Python program to find the area of a triangle?"
   ]
  },
  {
   "cell_type": "code",
   "execution_count": 3,
   "id": "a5d4be37",
   "metadata": {},
   "outputs": [
    {
     "name": "stdout",
     "output_type": "stream",
     "text": [
      "Enter a number: 45\n",
      "Enter another number: 23\n",
      "The area of triangle is: 517.5\n"
     ]
    }
   ],
   "source": [
    "base = float(input(\"Enter a number: \"))\n",
    "altitude = float(input(\"Enter another number: \"))\n",
    "AreaOfTriangle = 1/2*base*altitude\n",
    "print(\"The area of triangle is:\", AreaOfTriangle)"
   ]
  },
  {
   "cell_type": "markdown",
   "id": "ceacad71",
   "metadata": {},
   "source": [
    "### Q4 Write a Python program to swap two variables?"
   ]
  },
  {
   "cell_type": "code",
   "execution_count": 4,
   "id": "72c1c488",
   "metadata": {},
   "outputs": [
    {
     "name": "stdout",
     "output_type": "stream",
     "text": [
      "a: 15 and b: 10\n"
     ]
    }
   ],
   "source": [
    "a = 10\n",
    "b = 15\n",
    "a, b = b, a\n",
    "print(\"a:\", a, \"and b:\", b)"
   ]
  },
  {
   "cell_type": "markdown",
   "id": "9aeb7d61",
   "metadata": {},
   "source": [
    "### Q5 Write a Python program to generate a random number?"
   ]
  },
  {
   "cell_type": "code",
   "execution_count": 5,
   "id": "f0a0f62a",
   "metadata": {},
   "outputs": [
    {
     "data": {
      "text/plain": [
       "3"
      ]
     },
     "execution_count": 5,
     "metadata": {},
     "output_type": "execute_result"
    }
   ],
   "source": [
    "import random\n",
    "random.randint(0, 10)"
   ]
  }
 ],
 "metadata": {
  "kernelspec": {
   "display_name": "Python 3",
   "language": "python",
   "name": "python3"
  },
  "language_info": {
   "codemirror_mode": {
    "name": "ipython",
    "version": 3
   },
   "file_extension": ".py",
   "mimetype": "text/x-python",
   "name": "python",
   "nbconvert_exporter": "python",
   "pygments_lexer": "ipython3",
   "version": "3.8.8"
  }
 },
 "nbformat": 4,
 "nbformat_minor": 5
}
